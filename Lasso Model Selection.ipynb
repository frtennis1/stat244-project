{
 "cells": [
  {
   "cell_type": "code",
   "execution_count": 7,
   "metadata": {},
   "outputs": [],
   "source": [
    "import scipy\n",
    "\n",
    "from scipy.special import expit\n",
    "\n",
    "from sklearn.linear_model import LogisticRegression"
   ]
  },
  {
   "cell_type": "markdown",
   "metadata": {},
   "source": [
    "# Construct logistic regression data"
   ]
  },
  {
   "cell_type": "code",
   "execution_count": 2,
   "metadata": {},
   "outputs": [],
   "source": [
    "n, p = int(1e5), 100\n",
    "num_significant = 10"
   ]
  },
  {
   "cell_type": "code",
   "execution_count": 3,
   "metadata": {},
   "outputs": [],
   "source": [
    "# TODO: maybe add in some correlation?\n",
    "X = np.random.normal(size=(n, p))"
   ]
  },
  {
   "cell_type": "code",
   "execution_count": 4,
   "metadata": {},
   "outputs": [],
   "source": [
    "beta = np.zeros(p)\n",
    "beta[:num_significant] = np.random.normal(size=num_significant)"
   ]
  },
  {
   "cell_type": "code",
   "execution_count": 5,
   "metadata": {},
   "outputs": [],
   "source": [
    "y = np.random.binomial(1, expit(X @ beta)).astype(float)"
   ]
  },
  {
   "cell_type": "markdown",
   "metadata": {},
   "source": [
    "# Fit Lasso Logistic Regression"
   ]
  },
  {
   "cell_type": "code",
   "execution_count": 23,
   "metadata": {},
   "outputs": [],
   "source": [
    "# C = 1/lambda\n",
    "logistic = LogisticRegression(penalty='l1', C=.1)"
   ]
  },
  {
   "cell_type": "code",
   "execution_count": 24,
   "metadata": {},
   "outputs": [
    {
     "data": {
      "text/plain": [
       "LogisticRegression(C=0.1, class_weight=None, dual=False, fit_intercept=True,\n",
       "          intercept_scaling=1, max_iter=100, multi_class='ovr', n_jobs=1,\n",
       "          penalty='l1', random_state=None, solver='liblinear', tol=1e-10,\n",
       "          verbose=0, warm_start=False)"
      ]
     },
     "execution_count": 24,
     "metadata": {},
     "output_type": "execute_result"
    }
   ],
   "source": [
    "logistic.fit(X, y)"
   ]
  },
  {
   "cell_type": "code",
   "execution_count": 28,
   "metadata": {},
   "outputs": [
    {
     "data": {
      "text/plain": [
       "[<matplotlib.lines.Line2D at 0x118016a58>]"
      ]
     },
     "execution_count": 28,
     "metadata": {},
     "output_type": "execute_result"
    },
    {
     "data": {
      "image/png": "[encoded data removed]",
      "text/plain": [
       "<matplotlib.figure.Figure at 0x118a54208>"
      ]
     },
     "metadata": {
      "image/png": {
       "height": 249,
       "width": 378
      }
     },
     "output_type": "display_data"
    }
   ],
   "source": [
    "plt.plot(beta, logistic.coef_.flatten(), 'o')"
   ]
  },
  {
   "cell_type": "code",
   "execution_count": 26,
   "metadata": {},
   "outputs": [
    {
     "data": {
      "text/plain": [
       "array([ -9.06879332e-01,  -1.53906227e+00,   1.37243743e-02,\n",
       "         1.20251822e+00,  -4.87012674e-01,   1.22394689e-01,\n",
       "         4.19473348e-01,   9.77634885e-01,  -1.03697785e+00,\n",
       "        -1.34979041e+00,   0.00000000e+00,  -4.57101212e-03,\n",
       "        -8.05267050e-03,   2.27274551e-03,   8.53984187e-03,\n",
       "        -4.44527933e-03,  -1.35131159e-02,  -7.43003465e-03,\n",
       "         1.44353482e-02,  -2.94815434e-03,  -6.70746699e-03,\n",
       "        -1.89358300e-02,  -1.58972799e-02,  -1.14835855e-02,\n",
       "         0.00000000e+00,   0.00000000e+00,   6.79351927e-03,\n",
       "         0.00000000e+00,   2.09994275e-03,   3.51658631e-04,\n",
       "        -2.32262787e-02,  -5.23127632e-03,  -1.45356474e-03,\n",
       "         1.33222452e-03,   5.53552811e-03,   1.55335700e-02,\n",
       "        -4.68651819e-04,   4.48633151e-03,  -6.77231470e-04,\n",
       "         2.56151374e-03,  -7.40738024e-03,  -5.75643503e-03,\n",
       "         2.14126553e-03,   5.43052389e-03,  -3.42476512e-03,\n",
       "         2.51834247e-03,  -6.30041239e-03,   2.06639348e-03,\n",
       "         6.41964171e-03,  -4.28350019e-04,   1.29665299e-02,\n",
       "         1.45228264e-02,   0.00000000e+00,   9.81301662e-03,\n",
       "        -3.02640250e-02,   0.00000000e+00,   8.77446152e-03,\n",
       "         1.00335565e-02,  -1.34962036e-02,   4.51447064e-03,\n",
       "        -1.20652557e-02,   6.05117147e-03,   4.81630431e-03,\n",
       "         0.00000000e+00,   7.45392226e-03,  -7.15518149e-04,\n",
       "        -4.58745350e-03,  -2.41122469e-02,   7.56813089e-03,\n",
       "         1.10639575e-02,   8.00775560e-04,   4.38656908e-03,\n",
       "        -1.21714449e-02,   8.30040423e-03,   1.00159350e-02,\n",
       "         1.12904365e-02,  -1.25017634e-02,   1.11686920e-02,\n",
       "         7.26410773e-03,  -6.52547808e-03,   0.00000000e+00,\n",
       "         1.14794598e-02,   2.28023959e-03,   1.00222127e-02,\n",
       "         1.64616697e-02,  -1.18287554e-02,   1.07384057e-02,\n",
       "        -1.72570783e-02,  -4.30688757e-03,  -1.84120347e-02,\n",
       "        -4.19576789e-04,  -3.30606234e-03,  -2.72675404e-03,\n",
       "         5.86051980e-03,  -1.51630038e-03,   2.84742173e-04,\n",
       "         9.67672081e-03,  -3.66012721e-03,   0.00000000e+00,\n",
       "        -7.58612910e-03])"
      ]
     },
     "execution_count": 26,
     "metadata": {},
     "output_type": "execute_result"
    }
   ],
   "source": [
    "logistic.coef_.flatten()"
   ]
  },
  {
   "cell_type": "code",
   "execution_count": null,
   "metadata": {},
   "outputs": [],
   "source": []
  }
 ],
 "metadata": {
  "kernelspec": {
   "display_name": "Python 3",
   "language": "python",
   "name": "python3"
  },
  "language_info": {
   "codemirror_mode": {
    "name": "ipython",
    "version": 3
   },
   "file_extension": ".py",
   "mimetype": "text/x-python",
   "name": "python",
   "nbconvert_exporter": "python",
   "pygments_lexer": "ipython3",
   "version": "3.6.1"
  }
 },
 "nbformat": 4,
 "nbformat_minor": 2
}
